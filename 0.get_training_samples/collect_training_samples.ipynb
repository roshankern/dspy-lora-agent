{
 "cells": [
  {
   "cell_type": "code",
   "execution_count": 8,
   "id": "e93c01c7",
   "metadata": {},
   "outputs": [],
   "source": [
    "from dotenv import load_dotenv\n",
    "import dspy\n",
    "from dspy.datasets import HotPotQA\n",
    "from dspy.evaluate import answer_exact_match\n",
    "from dspy.evaluate import answer_exact_match\n",
    "from hotpotqa_agent import hotpotqa_agent"
   ]
  },
  {
   "cell_type": "code",
   "execution_count": 9,
   "id": "e9553ab4",
   "metadata": {},
   "outputs": [
    {
     "name": "stderr",
     "output_type": "stream",
     "text": [
      "`trust_remote_code` is not supported anymore.\n",
      "Please check that the Hugging Face dataset 'hotpot_qa' isn't based on a loading script and remove `trust_remote_code`.\n",
      "If the dataset is based on a loading script, please ask the dataset author to remove it and convert it to a standard format like Parquet.\n",
      "`trust_remote_code` is not supported anymore.\n",
      "Please check that the Hugging Face dataset 'hotpot_qa' isn't based on a loading script and remove `trust_remote_code`.\n",
      "If the dataset is based on a loading script, please ask the dataset author to remove it and convert it to a standard format like Parquet.\n"
     ]
    },
    {
     "data": {
      "text/plain": [
       "<dspy.datasets.hotpotqa.HotPotQA at 0x173ba0410>"
      ]
     },
     "execution_count": 9,
     "metadata": {},
     "output_type": "execute_result"
    }
   ],
   "source": [
    "hotpot_qa_ds = HotPotQA(train_size=3000, eval_seed=2025)\n",
    "hotpot_qa_ds"
   ]
  },
  {
   "cell_type": "code",
   "execution_count": 64,
   "id": "760cfceb",
   "metadata": {},
   "outputs": [],
   "source": [
    "load_dotenv(\".env\")\n",
    "\n",
    "# Configure DSPY with a language model\n",
    "lm = dspy.LM(\"gemini/gemini-2.5-flash\", cache=True)\n",
    "dspy.configure(lm=lm, temperature=0.7)"
   ]
  },
  {
   "cell_type": "code",
   "execution_count": null,
   "id": "d37029ee",
   "metadata": {},
   "outputs": [
    {
     "name": "stdout",
     "output_type": "stream",
     "text": [
      "Question #0: The city where the Anubis Shrine was found was known to the ancient Egyptians as what?\n",
      "Correct!\n"
     ]
    }
   ],
   "source": [
    "question_num = 0\n",
    "for ex in hotpot_qa_ds.train:\n",
    "    print(f\"Question #{question_num}: {ex['question']}\")\n",
    "    pred = hotpotqa_agent(question=ex[\"question\"])\n",
    "\n",
    "    if answer_exact_match(ex, pred):\n",
    "        print(\"Correct!\")\n",
    "    else:\n",
    "        print(\"Incorrect!\")\n",
    "\n",
    "    question_num += 1\n",
    "    break\n"
   ]
  },
  {
   "cell_type": "code",
   "execution_count": 98,
   "id": "677139e2",
   "metadata": {},
   "outputs": [
    {
     "data": {
      "text/plain": [
       "[[{'role': 'system',\n",
       "   'content': 'Your input fields are:\\n1. `question` (str): \\n2. `trajectory` (str):\\nYour output fields are:\\n1. `next_thought` (str): \\n2. `next_tool_name` (Literal[\\'evaluate_math\\', \\'search_wikipedia\\', \\'search_web\\', \\'finish\\']): \\n3. `next_tool_args` (dict[str, Any]):\\nAll interactions will be structured in the following way, with the appropriate values filled in.\\n\\nInputs will have the following structure:\\n\\n[[ ## question ## ]]\\n{question}\\n\\n[[ ## trajectory ## ]]\\n{trajectory}\\n\\nOutputs will be a JSON object with the following fields.\\n\\n{\\n  \"next_thought\": \"{next_thought}\",\\n  \"next_tool_name\": \"{next_tool_name}        # note: the value you produce must exactly match (no extra characters) one of: evaluate_math; search_wikipedia; search_web; finish\",\\n  \"next_tool_args\": \"{next_tool_args}        # note: the value you produce must adhere to the JSON schema: {\\\\\"type\\\\\": \\\\\"object\\\\\", \\\\\"additionalProperties\\\\\": true}\"\\n}\\nIn adhering to this structure, your objective is: \\n        Given the fields `question`, produce the fields `answer`.\\n        \\n        You are an Agent. In each episode, you will be given the fields `question` as input. And you can see your past trajectory so far.\\n        Your goal is to use one or more of the supplied tools to collect any necessary information for producing `answer`.\\n        \\n        To do this, you will interleave next_thought, next_tool_name, and next_tool_args in each turn, and also when finishing the task.\\n        After each tool call, you receive a resulting observation, which gets appended to your trajectory.\\n        \\n        When writing next_thought, you may reason about the current situation and plan for future steps.\\n        When selecting the next_tool_name and its next_tool_args, the tool must be one of:\\n        \\n        (1) evaluate_math, whose description is <desc>Evaluate a mathematical expression safely        Args:          expression (str): The mathematical expression to evaluate        Returns:          float: The result of the evaluation or an error message      </desc>. It takes arguments {\\'expression\\': {\\'type\\': \\'string\\'}}.\\n        (2) search_wikipedia, whose description is <desc>Search Wikipedia abstracts with a given query        Args:          query (str): The search query        Returns:          List[str]: A list of Wikipedia article abstracts      </desc>. It takes arguments {\\'query\\': {\\'type\\': \\'string\\'}}.\\n        (3) search_web, whose description is <desc>      Performs a web search using the Tavily API and returns a list of search results.        Args:          query (str): The search query string.          max_results (int): The maximum number of search results to return.        Returns:          list[dict]: A list of dictionaries, each containing:              - \\'title\\' (str): The title of the search result.              - \\'snippet\\' (str): A snippet or content summary of the result.              - \\'url\\' (str): The URL of the search result (truncated to 50 characters).      </desc>. It takes arguments {\\'query\\': {\\'type\\': \\'string\\'}, \\'max_results\\': {\\'type\\': \\'integer\\'}}.\\n        (4) finish, whose description is <desc>Marks the task as complete. That is, signals that all information for producing the outputs, i.e. `answer`, are now available to be extracted.</desc>. It takes arguments {}.\\n        When providing `next_tool_args`, the value inside the field must be in JSON format'},\n",
       "  {'role': 'user',\n",
       "   'content': \"[[ ## question ## ]]\\nThe city where the Anubis Shrine was found was known to the ancient Egyptians as what?\\n\\n[[ ## trajectory ## ]]\\n\\n\\nRespond with a JSON object in the following order of fields: `next_thought`, then `next_tool_name` (must be formatted as a valid Python Literal['evaluate_math', 'search_wikipedia', 'search_web', 'finish']), then `next_tool_args` (must be formatted as a valid Python dict[str, Any]).\"},\n",
       "  {'role': 'assistant',\n",
       "   'content': '{\\n  \"next_thought\": \"The user is asking for the ancient Egyptian name of the city where the Anubis Shrine was found. I need to find out where the Anubis Shrine was found first, and then find the ancient Egyptian name for that city. I will start by searching for \\\\\"Anubis Shrine\\\\\" to identify its discovery location.\",\\n  \"next_tool_name\": \"search_wikipedia\",\\n  \"next_tool_args\": {\\n    \"query\": \"Anubis Shrine\"\\n  }\\n}'},\n",
       "  {'role': 'assistant',\n",
       "   'content': '{\\n  \"next_thought\": \"The user is asking for the ancient Egyptian name of the city where the Anubis Shrine was found. I need to find out where the Anubis Shrine was found first, and then find the ancient Egyptian name for that city. I will start by searching for \\\\\"Anubis Shrine\\\\\" to identify its discovery location.\",\\n  \"next_tool_name\": \"search_wikipedia\",\\n  \"next_tool_args\": {\\n    \"query\": \"Anubis Shrine\"\\n  }\\n}'},\n",
       "  {'role': 'assistant',\n",
       "   'content': '{\\n  \"next_thought\": \"The user is asking for the ancient Egyptian name of the city where the Anubis Shrine was found. I need to find out where the Anubis Shrine was found first, and then find the ancient Egyptian name for that city. I will start by searching for \\\\\"Anubis Shrine\\\\\" to identify its discovery location.\",\\n  \"next_tool_name\": \"search_wikipedia\",\\n  \"next_tool_args\": {\\n    \"query\": \"Anubis Shrine\"\\n  }\\n}'},\n",
       "  {'role': 'assistant',\n",
       "   'content': '{\\n  \"next_thought\": \"The user is asking for the ancient Egyptian name of the city where the Anubis Shrine was found. I need to find out where the Anubis Shrine was found first, and then find the ancient Egyptian name for that city. I will start by searching for \\\\\"Anubis Shrine\\\\\" to identify its discovery location.\",\\n  \"next_tool_name\": \"search_wikipedia\",\\n  \"next_tool_args\": {\\n    \"query\": \"Anubis Shrine\"\\n  }\\n}'}],\n",
       " [{'role': 'system',\n",
       "   'content': 'Your input fields are:\\n1. `question` (str): \\n2. `trajectory` (str):\\nYour output fields are:\\n1. `next_thought` (str): \\n2. `next_tool_name` (Literal[\\'evaluate_math\\', \\'search_wikipedia\\', \\'search_web\\', \\'finish\\']): \\n3. `next_tool_args` (dict[str, Any]):\\nAll interactions will be structured in the following way, with the appropriate values filled in.\\n\\n[[ ## question ## ]]\\n{question}\\n\\n[[ ## trajectory ## ]]\\n{trajectory}\\n\\n[[ ## next_thought ## ]]\\n{next_thought}\\n\\n[[ ## next_tool_name ## ]]\\n{next_tool_name}        # note: the value you produce must exactly match (no extra characters) one of: evaluate_math; search_wikipedia; search_web; finish\\n\\n[[ ## next_tool_args ## ]]\\n{next_tool_args}        # note: the value you produce must adhere to the JSON schema: {\"type\": \"object\", \"additionalProperties\": true}\\n\\n[[ ## completed ## ]]\\nIn adhering to this structure, your objective is: \\n        Given the fields `question`, produce the fields `answer`.\\n        \\n        You are an Agent. In each episode, you will be given the fields `question` as input. And you can see your past trajectory so far.\\n        Your goal is to use one or more of the supplied tools to collect any necessary information for producing `answer`.\\n        \\n        To do this, you will interleave next_thought, next_tool_name, and next_tool_args in each turn, and also when finishing the task.\\n        After each tool call, you receive a resulting observation, which gets appended to your trajectory.\\n        \\n        When writing next_thought, you may reason about the current situation and plan for future steps.\\n        When selecting the next_tool_name and its next_tool_args, the tool must be one of:\\n        \\n        (1) evaluate_math, whose description is <desc>Evaluate a mathematical expression safely        Args:          expression (str): The mathematical expression to evaluate        Returns:          float: The result of the evaluation or an error message      </desc>. It takes arguments {\\'expression\\': {\\'type\\': \\'string\\'}}.\\n        (2) search_wikipedia, whose description is <desc>Search Wikipedia abstracts with a given query        Args:          query (str): The search query        Returns:          List[str]: A list of Wikipedia article abstracts      </desc>. It takes arguments {\\'query\\': {\\'type\\': \\'string\\'}}.\\n        (3) search_web, whose description is <desc>      Performs a web search using the Tavily API and returns a list of search results.        Args:          query (str): The search query string.          max_results (int): The maximum number of search results to return.        Returns:          list[dict]: A list of dictionaries, each containing:              - \\'title\\' (str): The title of the search result.              - \\'snippet\\' (str): A snippet or content summary of the result.              - \\'url\\' (str): The URL of the search result (truncated to 50 characters).      </desc>. It takes arguments {\\'query\\': {\\'type\\': \\'string\\'}, \\'max_results\\': {\\'type\\': \\'integer\\'}}.\\n        (4) finish, whose description is <desc>Marks the task as complete. That is, signals that all information for producing the outputs, i.e. `answer`, are now available to be extracted.</desc>. It takes arguments {}.\\n        When providing `next_tool_args`, the value inside the field must be in JSON format'},\n",
       "  {'role': 'user',\n",
       "   'content': '[[ ## question ## ]]\\nThe city where the Anubis Shrine was found was known to the ancient Egyptians as what?\\n\\n[[ ## trajectory ## ]]\\n[[ ## thought_0 ## ]]\\nThe user is asking for the ancient Egyptian name of the city where the Anubis Shrine was found. I need to find out where the Anubis Shrine was found first, and then find the ancient Egyptian name for that city. I will start by searching for \"Anubis Shrine\" to identify its discovery location.\\n\\n[[ ## tool_name_0 ## ]]\\nsearch_wikipedia\\n\\n[[ ## tool_args_0 ## ]]\\n{\"query\": \"Anubis Shrine\"}\\n\\n[[ ## observation_0 ## ]]\\n[1] «Anubis Shrine | The Anubis Shrine was part of the grave gods of Tutankhamun (18th Dynasty, New Kingdom). The tomb (KV62) was discovered almost intact on 4 November 1922 in the Valley of the Kings in west Thebes by Howard Carter. Today the object, with the find number 261, is an exhibit at the Egyptian Museum in Cairo, with the inventory number JE 61444.»\\n[2] «Anubis | Anubis ( or ; Ancient Greek: Ἄνουβις , Egyptian: \"jnpw\", Coptic: ⲁⲛⲟⲩⲡ \"Anoup\") is the Greek name of a god associated with mummification and the afterlife in ancient Egyptian religion, usually depicted as a canine or a man with a canine head. Archeologists identified the sacred animal of Anubis as an Egyptian canid, that at the time was called the golden jackal, but recent genetic testing has caused the Egyptian animal to be reclassified as the African golden wolf.»\\n[3] «Eremiaphila zolotarevskyi | Eremiaphila zolotarevskyi, common name Anubis mantis, is a species of praying mantis found in Chad.»\\n\\nRespond with the corresponding output fields, starting with the field `[[ ## next_thought ## ]]`, then `[[ ## next_tool_name ## ]]` (must be formatted as a valid Python Literal[\\'evaluate_math\\', \\'search_wikipedia\\', \\'search_web\\', \\'finish\\']), then `[[ ## next_tool_args ## ]]` (must be formatted as a valid Python dict[str, Any]), and then ending with the marker for `[[ ## completed ## ]]`.'},\n",
       "  '[[ ## next_thought ## ]]\\nThe Anubis Shrine was found in Thebes. I need to find the ancient Egyptian name for Thebes.\\n\\n[[ ## next_tool_name ## ]]\\nsearch_wikipedia\\n\\n[[ ## next_tool_args ## ]]\\n{\"query\": \"ancient Egyptian name for Thebes\"}\\n\\n[[ ## completed ## ]]',\n",
       "  {'role': 'assistant',\n",
       "   'content': '[[ ## next_thought ## ]]\\nThe Anubis Shrine was found in Thebes. I need to find the ancient Egyptian name for Thebes.\\n\\n[[ ## next_tool_name ## ]]\\nsearch_wikipedia\\n\\n[[ ## next_tool_args ## ]]\\n{\"query\": \"ancient Egyptian name for Thebes\"}\\n\\n[[ ## completed ## ]]'},\n",
       "  {'role': 'assistant',\n",
       "   'content': '[[ ## next_thought ## ]]\\nThe Anubis Shrine was found in Thebes. I need to find the ancient Egyptian name for Thebes.\\n\\n[[ ## next_tool_name ## ]]\\nsearch_wikipedia\\n\\n[[ ## next_tool_args ## ]]\\n{\"query\": \"ancient Egyptian name for Thebes\"}\\n\\n[[ ## completed ## ]]'},\n",
       "  {'role': 'assistant',\n",
       "   'content': '[[ ## next_thought ## ]]\\nThe Anubis Shrine was found in Thebes. I need to find the ancient Egyptian name for Thebes.\\n\\n[[ ## next_tool_name ## ]]\\nsearch_wikipedia\\n\\n[[ ## next_tool_args ## ]]\\n{\"query\": \"ancient Egyptian name for Thebes\"}\\n\\n[[ ## completed ## ]]'},\n",
       "  {'role': 'assistant',\n",
       "   'content': '[[ ## next_thought ## ]]\\nThe Anubis Shrine was found in Thebes. I need to find the ancient Egyptian name for Thebes.\\n\\n[[ ## next_tool_name ## ]]\\nsearch_wikipedia\\n\\n[[ ## next_tool_args ## ]]\\n{\"query\": \"ancient Egyptian name for Thebes\"}\\n\\n[[ ## completed ## ]]'},\n",
       "  {'role': 'assistant',\n",
       "   'content': '[[ ## next_thought ## ]]\\nThe Anubis Shrine was found in Thebes. I need to find the ancient Egyptian name for Thebes.\\n\\n[[ ## next_tool_name ## ]]\\nsearch_wikipedia\\n\\n[[ ## next_tool_args ## ]]\\n{\"query\": \"ancient Egyptian name for Thebes\"}\\n\\n[[ ## completed ## ]]'},\n",
       "  {'role': 'assistant',\n",
       "   'content': '[[ ## next_thought ## ]]\\nThe Anubis Shrine was found in Thebes. I need to find the ancient Egyptian name for Thebes.\\n\\n[[ ## next_tool_name ## ]]\\nsearch_wikipedia\\n\\n[[ ## next_tool_args ## ]]\\n{\"query\": \"ancient Egyptian name for Thebes\"}\\n\\n[[ ## completed ## ]]'}],\n",
       " [{'role': 'system',\n",
       "   'content': 'Your input fields are:\\n1. `question` (str): \\n2. `trajectory` (str):\\nYour output fields are:\\n1. `next_thought` (str): \\n2. `next_tool_name` (Literal[\\'evaluate_math\\', \\'search_wikipedia\\', \\'search_web\\', \\'finish\\']): \\n3. `next_tool_args` (dict[str, Any]):\\nAll interactions will be structured in the following way, with the appropriate values filled in.\\n\\n[[ ## question ## ]]\\n{question}\\n\\n[[ ## trajectory ## ]]\\n{trajectory}\\n\\n[[ ## next_thought ## ]]\\n{next_thought}\\n\\n[[ ## next_tool_name ## ]]\\n{next_tool_name}        # note: the value you produce must exactly match (no extra characters) one of: evaluate_math; search_wikipedia; search_web; finish\\n\\n[[ ## next_tool_args ## ]]\\n{next_tool_args}        # note: the value you produce must adhere to the JSON schema: {\"type\": \"object\", \"additionalProperties\": true}\\n\\n[[ ## completed ## ]]\\nIn adhering to this structure, your objective is: \\n        Given the fields `question`, produce the fields `answer`.\\n        \\n        You are an Agent. In each episode, you will be given the fields `question` as input. And you can see your past trajectory so far.\\n        Your goal is to use one or more of the supplied tools to collect any necessary information for producing `answer`.\\n        \\n        To do this, you will interleave next_thought, next_tool_name, and next_tool_args in each turn, and also when finishing the task.\\n        After each tool call, you receive a resulting observation, which gets appended to your trajectory.\\n        \\n        When writing next_thought, you may reason about the current situation and plan for future steps.\\n        When selecting the next_tool_name and its next_tool_args, the tool must be one of:\\n        \\n        (1) evaluate_math, whose description is <desc>Evaluate a mathematical expression safely        Args:          expression (str): The mathematical expression to evaluate        Returns:          float: The result of the evaluation or an error message      </desc>. It takes arguments {\\'expression\\': {\\'type\\': \\'string\\'}}.\\n        (2) search_wikipedia, whose description is <desc>Search Wikipedia abstracts with a given query        Args:          query (str): The search query        Returns:          List[str]: A list of Wikipedia article abstracts      </desc>. It takes arguments {\\'query\\': {\\'type\\': \\'string\\'}}.\\n        (3) search_web, whose description is <desc>      Performs a web search using the Tavily API and returns a list of search results.        Args:          query (str): The search query string.          max_results (int): The maximum number of search results to return.        Returns:          list[dict]: A list of dictionaries, each containing:              - \\'title\\' (str): The title of the search result.              - \\'snippet\\' (str): A snippet or content summary of the result.              - \\'url\\' (str): The URL of the search result (truncated to 50 characters).      </desc>. It takes arguments {\\'query\\': {\\'type\\': \\'string\\'}, \\'max_results\\': {\\'type\\': \\'integer\\'}}.\\n        (4) finish, whose description is <desc>Marks the task as complete. That is, signals that all information for producing the outputs, i.e. `answer`, are now available to be extracted.</desc>. It takes arguments {}.\\n        When providing `next_tool_args`, the value inside the field must be in JSON format'},\n",
       "  {'role': 'user',\n",
       "   'content': '[[ ## question ## ]]\\nThe city where the Anubis Shrine was found was known to the ancient Egyptians as what?\\n\\n[[ ## trajectory ## ]]\\n[[ ## thought_0 ## ]]\\nThe user is asking for the ancient Egyptian name of the city where the Anubis Shrine was found. I need to find out where the Anubis Shrine was found first, and then find the ancient Egyptian name for that city. I will start by searching for \"Anubis Shrine\" to identify its discovery location.\\n\\n[[ ## tool_name_0 ## ]]\\nsearch_wikipedia\\n\\n[[ ## tool_args_0 ## ]]\\n{\"query\": \"Anubis Shrine\"}\\n\\n[[ ## observation_0 ## ]]\\n[1] «Anubis Shrine | The Anubis Shrine was part of the grave gods of Tutankhamun (18th Dynasty, New Kingdom). The tomb (KV62) was discovered almost intact on 4 November 1922 in the Valley of the Kings in west Thebes by Howard Carter. Today the object, with the find number 261, is an exhibit at the Egyptian Museum in Cairo, with the inventory number JE 61444.»\\n[2] «Anubis | Anubis ( or ; Ancient Greek: Ἄνουβις , Egyptian: \"jnpw\", Coptic: ⲁⲛⲟⲩⲡ \"Anoup\") is the Greek name of a god associated with mummification and the afterlife in ancient Egyptian religion, usually depicted as a canine or a man with a canine head. Archeologists identified the sacred animal of Anubis as an Egyptian canid, that at the time was called the golden jackal, but recent genetic testing has caused the Egyptian animal to be reclassified as the African golden wolf.»\\n[3] «Eremiaphila zolotarevskyi | Eremiaphila zolotarevskyi, common name Anubis mantis, is a species of praying mantis found in Chad.»\\n\\n[[ ## thought_1 ## ]]\\nThe Anubis Shrine was found in Thebes. I need to find the ancient Egyptian name for Thebes.\\n\\n[[ ## tool_name_1 ## ]]\\nsearch_wikipedia\\n\\n[[ ## tool_args_1 ## ]]\\n{\"query\": \"ancient Egyptian name for Thebes\"}\\n\\n[[ ## observation_1 ## ]]\\n[1] «Thebes, Egypt | Thebes (Ancient Greek: Θῆβαι , \"Thēbai\"), known to the ancient Egyptians as Waset, was an ancient Egyptian city located east of the Nile about 800 km south of the Mediterranean. Its ruins lie within the modern Egyptian city of Luxor. Thebes was the main city of the fourth Upper Egyptian nome (Sceptre nome) and was the capital of Egypt during the New Kingdom. It was close to Nubia and the eastern desert, with its valuable mineral resources and trade routes. It was a cult center and the wealthiest city of ancient Egypt at its heyday. The site of Thebes includes areas on both the eastern bank of the Nile, where the temples of Karnak and Luxor stand and the city proper was situated; and the western bank, where a necropolis of large private and royal cemeteries and funerary complexes can be found.»\\n[2] «Khaemwaset (disambiguation) | Khaemwaset or Khaemweset (\"\"He who appears in Thebes\"\") was a personal ancient Egyptian name popular during the New Kingdom. Some notable bearers were:»\\n[3] «Ahmose I | Ahmose I (Egyptian: Jˁḥ ms(j.w), sometimes written \"Amosis I\", \"Amenes\" and \"Aahmes\" and meaning \"Born of Iah\") was a pharaoh of ancient Egypt and the founder of the Eighteenth dynasty. He was a member of the Theban royal house, the son of pharaoh Seqenenre Tao and brother of the last pharaoh of the Seventeenth dynasty, King Kamose. During the reign of his father or grandfather, Thebes rebelled against the Hyksos, the rulers of Lower Egypt. When he was seven years old his father was killed, and he was about ten when his brother died of unknown causes, after reigning only three years. Ahmose I assumed the throne after the death of his brother, and upon coronation became known as Neb-Pehty-Re (\"The Lord of Strength is Re\"). The name \"Ahmose\" is a combination of the divine name \\'Ah\\' (see Iah) and the combining form \\'-mose\\'.»\\n\\nRespond with the corresponding output fields, starting with the field `[[ ## next_thought ## ]]`, then `[[ ## next_tool_name ## ]]` (must be formatted as a valid Python Literal[\\'evaluate_math\\', \\'search_wikipedia\\', \\'search_web\\', \\'finish\\']), then `[[ ## next_tool_args ## ]]` (must be formatted as a valid Python dict[str, Any]), and then ending with the marker for `[[ ## completed ## ]]`.'},\n",
       "  {'role': 'assistant',\n",
       "   'content': '[[ ## next_thought ## ]]\\nThe Anubis Shrine was found in Thebes, which was known to the ancient Egyptians as Waset. I have all the information needed to answer the question.\\n\\n[[ ## next_tool_name ## ]]\\nfinish\\n\\n[[ ## next_tool_args ## ]]\\n{}\\n\\n[[ ## completed ## ]]'},\n",
       "  {'role': 'assistant',\n",
       "   'content': '[[ ## next_thought ## ]]\\nThe Anubis Shrine was found in Thebes, which was known to the ancient Egyptians as Waset. I have all the information needed to answer the question.\\n\\n[[ ## next_tool_name ## ]]\\nfinish\\n\\n[[ ## next_tool_args ## ]]\\n{}\\n\\n[[ ## completed ## ]]'},\n",
       "  {'role': 'assistant',\n",
       "   'content': '[[ ## next_thought ## ]]\\nThe Anubis Shrine was found in Thebes, which was known to the ancient Egyptians as Waset. I have all the information needed to answer the question.\\n\\n[[ ## next_tool_name ## ]]\\nfinish\\n\\n[[ ## next_tool_args ## ]]\\n{}\\n\\n[[ ## completed ## ]]'}]]"
      ]
     },
     "execution_count": 98,
     "metadata": {},
     "output_type": "execute_result"
    }
   ],
   "source": [
    "def get_pred_message_responses(pred):\n",
    "    from dspy.clients.base_lm import GLOBAL_HISTORY\n",
    "\n",
    "    pred_steps = len(pred.trajectory) // 4\n",
    "\n",
    "    # get last pred_step number of convo turns\n",
    "    message_responses = []\n",
    "    for pred_step in range(pred_steps):\n",
    "        history_step_index = 10 - (pred_steps - pred_step) - 1\n",
    "        # first part of messages + response is messages\n",
    "        pred_step_messages_response = GLOBAL_HISTORY[history_step_index][\n",
    "            \"messages\"\n",
    "        ]  # go back in history to the pred_step of interest\n",
    "        # add the response\n",
    "        response = (\n",
    "            GLOBAL_HISTORY[history_step_index][\"response\"].choices[0].message.content\n",
    "        )\n",
    "        formatted_response = {\"role\": \"assistant\", \"content\": response}\n",
    "        pred_step_messages_response.append(formatted_response)\n",
    "\n",
    "        message_responses.append(pred_step_messages_response)\n",
    "\n",
    "    return message_responses\n",
    "\n",
    "\n",
    "get_pred_message_responses(pred)"
   ]
  }
 ],
 "metadata": {
  "kernelspec": {
   "display_name": "dspy-lora-agent",
   "language": "python",
   "name": "python3"
  },
  "language_info": {
   "codemirror_mode": {
    "name": "ipython",
    "version": 3
   },
   "file_extension": ".py",
   "mimetype": "text/x-python",
   "name": "python",
   "nbconvert_exporter": "python",
   "pygments_lexer": "ipython3",
   "version": "3.12.4"
  }
 },
 "nbformat": 4,
 "nbformat_minor": 5
}
