{
 "cells": [
  {
   "cell_type": "markdown",
   "id": "4b1de012",
   "metadata": {},
   "source": [
    "### Understand data. \n",
    "\n",
    "Understand the format we need for training data. We are trying to replicate the format from `mlabonne/FineTome-100k`"
   ]
  },
  {
   "cell_type": "code",
   "execution_count": null,
   "id": "b8e98475",
   "metadata": {},
   "outputs": [],
   "source": [
    "from datasets import load_dataset\n",
    "\n",
    "dataset = load_dataset(\"mlabonne/FineTome-100k\", split=\"train\")"
   ]
  }
 ],
 "metadata": {
  "kernelspec": {
   "display_name": "dspy-lora-agent",
   "language": "python",
   "name": "python3"
  },
  "language_info": {
   "name": "python",
   "version": "3.12.4"
  }
 },
 "nbformat": 4,
 "nbformat_minor": 5
}
