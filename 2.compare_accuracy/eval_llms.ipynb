{
 "cells": [
  {
   "cell_type": "code",
   "execution_count": 1,
   "id": "41c4849f",
   "metadata": {},
   "outputs": [
    {
     "data": {
      "text/plain": [
       "False"
      ]
     },
     "execution_count": 1,
     "metadata": {},
     "output_type": "execute_result"
    }
   ],
   "source": [
    "from dotenv import load_dotenv\n",
    "\n",
    "load_dotenv(\".env\")"
   ]
  },
  {
   "cell_type": "code",
   "execution_count": 2,
   "id": "1c122343",
   "metadata": {},
   "outputs": [
    {
     "name": "stderr",
     "output_type": "stream",
     "text": [
      "/Users/roshankern/Desktop/Github/dspy-lora-agent/.venv/lib/python3.12/site-packages/tqdm/auto.py:21: TqdmWarning: IProgress not found. Please update jupyter and ipywidgets. See https://ipywidgets.readthedocs.io/en/stable/user_install.html\n",
      "  from .autonotebook import tqdm as notebook_tqdm\n",
      "`trust_remote_code` is not supported anymore.\n",
      "Please check that the Hugging Face dataset 'hotpot_qa' isn't based on a loading script and remove `trust_remote_code`.\n",
      "If the dataset is based on a loading script, please ask the dataset author to remove it and convert it to a standard format like Parquet.\n",
      "`trust_remote_code` is not supported anymore.\n",
      "Please check that the Hugging Face dataset 'hotpot_qa' isn't based on a loading script and remove `trust_remote_code`.\n",
      "If the dataset is based on a loading script, please ask the dataset author to remove it and convert it to a standard format like Parquet.\n"
     ]
    }
   ],
   "source": [
    "import dspy\n",
    "\n",
    "from dspy.datasets import HotPotQA\n",
    "from dspy.evaluate import answer_exact_match\n",
    "from hotpotqa_agent import hotpotqa_agent\n",
    "\n",
    "ds = HotPotQA(\n",
    "    train_size=0, test_size=0, dev_size=10, eval_seed=2025\n",
    ")  # deterministic 10"
   ]
  },
  {
   "cell_type": "code",
   "execution_count": 3,
   "id": "58979a99",
   "metadata": {},
   "outputs": [
    {
     "name": "stdout",
     "output_type": "stream",
     "text": [
      "\n",
      "Correct (6)\n",
      "----------------------------------------------------------------------------------------------------\n",
      "QUESTION                                                     | GOLD               | PRED\n",
      "----------------------------------------------------------------------------------------------------\n",
      "Pehchaan: The Face of Truth stars Vinod Khanna, Rati Agnihot | Raveena Tandon     | Raveena Tandon\n",
      "Trim is a transitway station in the east end of a city that  | 934,243            | 934,243\n",
      "Which French crime drama starred Antonythasan Jesuthasan, wr | Dheepan            | Dheepan\n",
      "What is the name of the South Korean-Chinese boy group whose | EXO                | EXO\n",
      "Who was the composer of the 2011 British-American 3D compute | Chris Bacon        | Chris Bacon\n",
      "Who is credited for The Internship role that corresponds to  | Shawn Levy         | Shawn Levy\n",
      "----------------------------------------------------------------------------------------------------\n",
      "\n",
      "Incorrect (4)\n",
      "----------------------------------------------------------------------------------------------------\n",
      "QUESTION                                                     | GOLD               | PRED\n",
      "----------------------------------------------------------------------------------------------------\n",
      "What is the name of the person who helped work on Les Sylphi | Michael Fokine     | Michel Fokine\n",
      "What occupation do Dustin Kensrue and Jimmy Urine share?     | singer             | Musician (or Singer)\n",
      "what has a larger popoulation: Zhangqiu District or Yumen Ci | Zhangqiu           | Zhangqiu District has a larger population.\n",
      "Are Anyang and Fenyang both in the same province in China?   | no                 | No, Anyang and Fenyang are not in the same province in China. Anyang is in Henan province, and Fenyang is in Shanxi province.\n",
      "----------------------------------------------------------------------------------------------------\n"
     ]
    }
   ],
   "source": [
    "# Configure DSPY with a language model\n",
    "lm = dspy.LM(\"gemini/gemini-2.5-flash\")\n",
    "dspy.configure(lm=lm, temperature=0.7, cache=False)\n",
    "\n",
    "\n",
    "def _as_text(x):\n",
    "    if isinstance(x, (list, tuple)):\n",
    "        return \" / \".join(map(str, x))\n",
    "    return str(x)\n",
    "\n",
    "\n",
    "correct, incorrect = [], []\n",
    "for ex in ds.dev:\n",
    "    pred = hotpotqa_agent(question=ex[\"question\"])\n",
    "    row = {\n",
    "        \"q\": ex[\"question\"],\n",
    "        \"gold\": _as_text(ex[\"answer\"]),\n",
    "        \"pred\": _as_text(getattr(pred, \"answer\", pred)),\n",
    "    }\n",
    "    (correct if answer_exact_match(ex, pred) else incorrect).append(row)\n",
    "\n",
    "\n",
    "def print_table(title, rows):\n",
    "    print(f\"\\n{title} ({len(rows)})\")\n",
    "    print(\"-\" * 100)\n",
    "    print(f\"{'QUESTION':<60} | {'GOLD':<18} | PRED\")\n",
    "    print(\"-\" * 100)\n",
    "    for r in rows:\n",
    "        q, g, p = r[\"q\"], r[\"gold\"], r[\"pred\"]\n",
    "        print(f\"{q[:60]:<60} | {g[:18]:<18} | {p}\")\n",
    "    print(\"-\" * 100)\n",
    "\n",
    "\n",
    "print_table(\"Correct\", correct)\n",
    "print_table(\"Incorrect\", incorrect)"
   ]
  },
  {
   "cell_type": "code",
   "execution_count": 4,
   "id": "5a42e374",
   "metadata": {},
   "outputs": [
    {
     "name": "stderr",
     "output_type": "stream",
     "text": [
      "2025/08/20 11:51:41 WARNING dspy.clients.lm: LM response was truncated due to exceeding max_tokens=4000. You can inspect the latest LM interactions with `dspy.inspect_history()`. To avoid truncation, consider passing a larger max_tokens when setting up dspy.LM. You may also consider increasing the temperature (currently 0.0)  if the reason for truncation is repetition.\n"
     ]
    },
    {
     "name": "stdout",
     "output_type": "stream",
     "text": [
      "\n",
      "Correct (3)\n",
      "----------------------------------------------------------------------------------------------------\n",
      "QUESTION                                                     | GOLD               | PRED\n",
      "----------------------------------------------------------------------------------------------------\n",
      "Pehchaan: The Face of Truth stars Vinod Khanna, Rati Agnihot | Raveena Tandon     | Raveena Tandon\n",
      "Which French crime drama starred Antonythasan Jesuthasan, wr | Dheepan            | Dheepan\n",
      "What is the name of the South Korean-Chinese boy group whose | EXO                | EXO\n",
      "----------------------------------------------------------------------------------------------------\n",
      "\n",
      "Incorrect (7)\n",
      "----------------------------------------------------------------------------------------------------\n",
      "QUESTION                                                     | GOLD               | PRED\n",
      "----------------------------------------------------------------------------------------------------\n",
      "What is the name of the person who helped work on Les Sylphi | Michael Fokine     | Hans Brenaa.\n",
      "Trim is a transitway station in the east end of a city that  | 934,243            | Unfortunately, the provided information does not specify the population of the city's east end where Trim station is located.\n",
      "What occupation do Dustin Kensrue and Jimmy Urine share?     | singer             | Both Dustin Kensrue and Jimmy Urine are musicians, with Dustin Kensrue being a vocalist, lyricist, and rhythm guitarist in the post-hardcore/experimental rock quartet Thrice, and Jimmy Urine being an American singer, songwriter, and musician, best known as the lead singer and programmer of electropunk band Mindless Self Indulgence.\n",
      "what has a larger popoulation: Zhangqiu District or Yumen Ci | Zhangqiu           | Yumen City has a larger population, with a population of 106,812 (2002 est.), while Zhangqiu District has a population of 1,064,210 as of 2010.\n",
      "Are Anyang and Fenyang both in the same province in China?   | no                 | Both Anyang and Fenyang are cities in Henan province, China, and they are both located in the same province.\n",
      "Who was the composer of the 2011 British-American 3D compute | Chris Bacon        | Chris Bacon was the composer for the 2011 film \"Romeo and Juliet\".\n",
      "Who is credited for The Internship role that corresponds to  | Shawn Levy         | Akiva Schaffer is credited for The Internship role in The Watch.\n",
      "----------------------------------------------------------------------------------------------------\n"
     ]
    }
   ],
   "source": [
    "# Configure DSPY with a language model\n",
    "lm = dspy.LM(\n",
    "    \"openai/unsloth/Llama-3.2-3B-Instruct\",\n",
    "    api_key=\"\",\n",
    "    api_base=\"https://roshan-kern--hf-endpoint-serve.modal.run/v1\",\n",
    ")\n",
    "dspy.configure(lm=lm, temperature=0.7, cache=False)\n",
    "\n",
    "\n",
    "def _as_text(x):\n",
    "    if isinstance(x, (list, tuple)):\n",
    "        return \" / \".join(map(str, x))\n",
    "    return str(x)\n",
    "\n",
    "\n",
    "correct, incorrect = [], []\n",
    "for ex in ds.dev:\n",
    "    pred = hotpotqa_agent(question=ex[\"question\"])\n",
    "    row = {\n",
    "        \"q\": ex[\"question\"],\n",
    "        \"gold\": _as_text(ex[\"answer\"]),\n",
    "        \"pred\": _as_text(getattr(pred, \"answer\", pred)),\n",
    "    }\n",
    "    (correct if answer_exact_match(ex, pred) else incorrect).append(row)\n",
    "\n",
    "\n",
    "def print_table(title, rows):\n",
    "    print(f\"\\n{title} ({len(rows)})\")\n",
    "    print(\"-\" * 100)\n",
    "    print(f\"{'QUESTION':<60} | {'GOLD':<18} | PRED\")\n",
    "    print(\"-\" * 100)\n",
    "    for r in rows:\n",
    "        q, g, p = r[\"q\"], r[\"gold\"], r[\"pred\"]\n",
    "        print(f\"{q[:60]:<60} | {g[:18]:<18} | {p}\")\n",
    "    print(\"-\" * 100)\n",
    "\n",
    "\n",
    "print_table(\"Correct\", correct)\n",
    "print_table(\"Incorrect\", incorrect)"
   ]
  }
 ],
 "metadata": {
  "kernelspec": {
   "display_name": "dspy-lora-agent",
   "language": "python",
   "name": "python3"
  },
  "language_info": {
   "codemirror_mode": {
    "name": "ipython",
    "version": 3
   },
   "file_extension": ".py",
   "mimetype": "text/x-python",
   "name": "python",
   "nbconvert_exporter": "python",
   "pygments_lexer": "ipython3",
   "version": "3.12.4"
  }
 },
 "nbformat": 4,
 "nbformat_minor": 5
}
