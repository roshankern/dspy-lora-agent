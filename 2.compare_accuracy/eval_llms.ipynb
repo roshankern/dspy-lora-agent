{
 "cells": [
  {
   "cell_type": "code",
   "execution_count": null,
   "id": "41c4849f",
   "metadata": {},
   "outputs": [],
   "source": [
    "from dotenv import load_dotenv\n",
    "\n",
    "load_dotenv(\".env\")"
   ]
  },
  {
   "cell_type": "code",
   "execution_count": null,
   "id": "1c122343",
   "metadata": {},
   "outputs": [
    {
     "name": "stderr",
     "output_type": "stream",
     "text": [
      "/Users/roshankern/Desktop/Github/dspy-lora-agent/.venv/lib/python3.12/site-packages/tqdm/auto.py:21: TqdmWarning: IProgress not found. Please update jupyter and ipywidgets. See https://ipywidgets.readthedocs.io/en/stable/user_install.html\n",
      "  from .autonotebook import tqdm as notebook_tqdm\n",
      "`trust_remote_code` is not supported anymore.\n",
      "Please check that the Hugging Face dataset 'hotpot_qa' isn't based on a loading script and remove `trust_remote_code`.\n",
      "If the dataset is based on a loading script, please ask the dataset author to remove it and convert it to a standard format like Parquet.\n",
      "Generating train split: 100%|██████████| 90447/90447 [00:00<00:00, 91743.52 examples/s] \n",
      "Generating validation split: 100%|██████████| 7405/7405 [00:00<00:00, 96313.89 examples/s]\n",
      "Generating test split: 100%|██████████| 7405/7405 [00:00<00:00, 96049.40 examples/s]\n",
      "`trust_remote_code` is not supported anymore.\n",
      "Please check that the Hugging Face dataset 'hotpot_qa' isn't based on a loading script and remove `trust_remote_code`.\n",
      "If the dataset is based on a loading script, please ask the dataset author to remove it and convert it to a standard format like Parquet.\n"
     ]
    }
   ],
   "source": [
    "import dspy\n",
    "\n",
    "from dspy.datasets import HotPotQA\n",
    "from dspy.evaluate import answer_exact_match\n",
    "from hotpotqa_agent import hotpotqa_agent\n",
    "\n",
    "ds = HotPotQA(\n",
    "    train_size=0, test_size=0, dev_size=10, eval_seed=2025\n",
    ")  # deterministic 10"
   ]
  },
  {
   "cell_type": "code",
   "execution_count": null,
   "id": "58979a99",
   "metadata": {},
   "outputs": [
    {
     "name": "stdout",
     "output_type": "stream",
     "text": [
      "\n",
      "Correct (6)\n",
      "----------------------------------------------------------------------------------------------------\n",
      "QUESTION                                                     | GOLD               | PRED\n",
      "----------------------------------------------------------------------------------------------------\n",
      "Pehchaan: The Face of Truth stars Vinod Khanna, Rati Agnihot | Raveena Tandon     | Raveena Tandon\n",
      "Trim is a transitway station in the east end of a city that  | 934,243            | 934,243\n",
      "Which French crime drama starred Antonythasan Jesuthasan, wr | Dheepan            | Dheepan\n",
      "What is the name of the South Korean-Chinese boy group whose | EXO                | EXO\n",
      "Who was the composer of the 2011 British-American 3D compute | Chris Bacon        | Chris Bacon\n",
      "Who is credited for The Internship role that corresponds to  | Shawn Levy         | Shawn Levy\n",
      "----------------------------------------------------------------------------------------------------\n",
      "\n",
      "Incorrect (4)\n",
      "----------------------------------------------------------------------------------------------------\n",
      "QUESTION                                                     | GOLD               | PRED\n",
      "----------------------------------------------------------------------------------------------------\n",
      "What is the name of the person who helped work on Les Sylphi | Michael Fokine     | Michel Fokine\n",
      "What occupation do Dustin Kensrue and Jimmy Urine share?     | singer             | Musician (or Singer)\n",
      "what has a larger popoulation: Zhangqiu District or Yumen Ci | Zhangqiu           | Zhangqiu District has a larger population.\n",
      "Are Anyang and Fenyang both in the same province in China?   | no                 | No, Anyang and Fenyang are not in the same province in China. Anyang is in Henan province, and Fenyang is in Shanxi province.\n",
      "----------------------------------------------------------------------------------------------------\n"
     ]
    }
   ],
   "source": [
    "# Configure DSPY with a language model\n",
    "lm = dspy.LM(\"gemini/gemini-2.5-flash\")\n",
    "dspy.configure(lm=lm, temperature=0.7, cache=False)\n",
    "\n",
    "\n",
    "def _as_text(x):\n",
    "    if isinstance(x, (list, tuple)):\n",
    "        return \" / \".join(map(str, x))\n",
    "    return str(x)\n",
    "\n",
    "\n",
    "correct, incorrect = [], []\n",
    "for ex in ds.dev:\n",
    "    pred = hotpotqa_agent(question=ex[\"question\"])\n",
    "    row = {\n",
    "        \"q\": ex[\"question\"],\n",
    "        \"gold\": _as_text(ex[\"answer\"]),\n",
    "        \"pred\": _as_text(getattr(pred, \"answer\", pred)),\n",
    "    }\n",
    "    (correct if answer_exact_match(ex, pred) else incorrect).append(row)\n",
    "\n",
    "\n",
    "def print_table(title, rows):\n",
    "    print(f\"\\n{title} ({len(rows)})\")\n",
    "    print(\"-\" * 100)\n",
    "    print(f\"{'QUESTION':<60} | {'GOLD':<18} | PRED\")\n",
    "    print(\"-\" * 100)\n",
    "    for r in rows:\n",
    "        q, g, p = r[\"q\"], r[\"gold\"], r[\"pred\"]\n",
    "        print(f\"{q[:60]:<60} | {g[:18]:<18} | {p}\")\n",
    "    print(\"-\" * 100)\n",
    "\n",
    "\n",
    "print_table(\"Correct\", correct)\n",
    "print_table(\"Incorrect\", incorrect)"
   ]
  },
  {
   "cell_type": "code",
   "execution_count": 9,
   "id": "5a42e374",
   "metadata": {},
   "outputs": [
    {
     "name": "stdout",
     "output_type": "stream",
     "text": [
      "\n",
      "Correct (2)\n",
      "----------------------------------------------------------------------------------------------------\n",
      "QUESTION                                                     | GOLD               | PRED\n",
      "----------------------------------------------------------------------------------------------------\n",
      "Pehchaan: The Face of Truth stars Vinod Khanna, Rati Agnihot | Raveena Tandon     | Raveena Tandon\n",
      "Who was the composer of the 2011 British-American 3D compute | Chris Bacon        | Chris Bacon\n",
      "----------------------------------------------------------------------------------------------------\n",
      "\n",
      "Incorrect (8)\n",
      "----------------------------------------------------------------------------------------------------\n",
      "QUESTION                                                     | GOLD               | PRED\n",
      "----------------------------------------------------------------------------------------------------\n",
      "What is the name of the person who helped work on Les Sylphi | Michael Fokine     | Fred Astaire's death was confirmed on August 22, 1942.\n",
      "Trim is a transitway station in the east end of a city that  | 934,243            | Unfortunately, I was unable to find any reliable sources providing the population of the city's east end as of 2016.\n",
      "Which French crime drama starred Antonythasan Jesuthasan, wr | Dheepan            | Take My Breath Away\n",
      "What occupation do Dustin Kensrue and Jimmy Urine share?     | singer             | They are both musicians, specifically American singers, songwriters, and musicians.\n",
      "what has a larger popoulation: Zhangqiu District or Yumen Ci | Zhangqiu           | Yumen City has a larger population than Zhangqiu District. According to the search results, Yumen City has a population of 106,812 (2002 est.), while Zhangqiu District has a permanent resident population of 1,064,210 as of 2010.\n",
      "Are Anyang and Fenyang both in the same province in China?   | no                 | No, Anyang and Fenyang are not in the same province in China.\n",
      "What is the name of the South Korean-Chinese boy group whose | EXO                | BTS (also known as Bangtan Boys or Beyond The Scene) is a seven-member South Korean boy band formed by Big Hit Entertainment. They debuted on June 12, 2013 with the song \"No More Dream\" from their first album \"2 Cool 4 Skool\", for which they won several New Artist of the Year awards.\n",
      "Who is credited for The Internship role that corresponds to  | Shawn Levy         | Vince Vaughn\n",
      "----------------------------------------------------------------------------------------------------\n"
     ]
    }
   ],
   "source": [
    "# Configure DSPY with a language model\n",
    "lm = dspy.LM(\n",
    "    \"openai/llama3.2:3b\",  # anything smaller than 3.2:3b is too dumb for DSPY parsing\n",
    "    api_key=\"makora_bio_endpoint\",\n",
    "    api_base=\"https://roshan-kern--ollama-endpoint-ollama-api.modal.run/v1\",\n",
    ")\n",
    "dspy.configure(lm=lm, temperature=0.7, cache=False)\n",
    "\n",
    "\n",
    "def _as_text(x):\n",
    "    if isinstance(x, (list, tuple)):\n",
    "        return \" / \".join(map(str, x))\n",
    "    return str(x)\n",
    "\n",
    "\n",
    "correct, incorrect = [], []\n",
    "for ex in ds.dev:\n",
    "    pred = hotpotqa_agent(question=ex[\"question\"])\n",
    "    row = {\n",
    "        \"q\": ex[\"question\"],\n",
    "        \"gold\": _as_text(ex[\"answer\"]),\n",
    "        \"pred\": _as_text(getattr(pred, \"answer\", pred)),\n",
    "    }\n",
    "    (correct if answer_exact_match(ex, pred) else incorrect).append(row)\n",
    "\n",
    "\n",
    "def print_table(title, rows):\n",
    "    print(f\"\\n{title} ({len(rows)})\")\n",
    "    print(\"-\" * 100)\n",
    "    print(f\"{'QUESTION':<60} | {'GOLD':<18} | PRED\")\n",
    "    print(\"-\" * 100)\n",
    "    for r in rows:\n",
    "        q, g, p = r[\"q\"], r[\"gold\"], r[\"pred\"]\n",
    "        print(f\"{q[:60]:<60} | {g[:18]:<18} | {p}\")\n",
    "    print(\"-\" * 100)\n",
    "\n",
    "\n",
    "print_table(\"Correct\", correct)\n",
    "print_table(\"Incorrect\", incorrect)"
   ]
  }
 ],
 "metadata": {
  "kernelspec": {
   "display_name": "dspy-lora-agent",
   "language": "python",
   "name": "python3"
  },
  "language_info": {
   "codemirror_mode": {
    "name": "ipython",
    "version": 3
   },
   "file_extension": ".py",
   "mimetype": "text/x-python",
   "name": "python",
   "nbconvert_exporter": "python",
   "pygments_lexer": "ipython3",
   "version": "3.12.4"
  }
 },
 "nbformat": 4,
 "nbformat_minor": 5
}
