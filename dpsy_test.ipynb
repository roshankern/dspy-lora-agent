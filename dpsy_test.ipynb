{
 "cells": [],
 "metadata": {
  "kernelspec": {
   "display_name": "dspy-lora-agent",
   "language": "python",
   "name": "python3"
  },
  "language_info": {
   "name": "python",
   "version": "3.12.4"
  }
 },
 "nbformat": 4,
 "nbformat_minor": 5
}
